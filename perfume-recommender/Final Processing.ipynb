{
 "cells": [
  {
   "cell_type": "code",
   "execution_count": 1,
   "metadata": {},
   "outputs": [
    {
     "data": {
      "text/html": [
       "<style>pre { white-space: pre !important; }</style>"
      ],
      "text/plain": [
       "<IPython.core.display.HTML object>"
      ]
     },
     "metadata": {},
     "output_type": "display_data"
    }
   ],
   "source": [
    "import pandas as pd\n",
    "import numpy as np\n",
    "import toolkit\n",
    "import nltk\n",
    "import os\n",
    "\n",
    "from textblob import Word\n",
    "from IPython.core.display import HTML\n",
    "\n",
    "display(HTML(\"<style>pre { white-space: pre !important; }</style>\"))\n",
    "toolkit.set_default_pandas_options()"
   ]
  },
  {
   "cell_type": "code",
   "execution_count": 2,
   "metadata": {},
   "outputs": [
    {
     "data": {
      "text/html": [
       "<div>\n",
       "<style scoped>\n",
       "    .dataframe tbody tr th:only-of-type {\n",
       "        vertical-align: middle;\n",
       "    }\n",
       "\n",
       "    .dataframe tbody tr th {\n",
       "        vertical-align: top;\n",
       "    }\n",
       "\n",
       "    .dataframe thead th {\n",
       "        text-align: right;\n",
       "    }\n",
       "</style>\n",
       "<table border=\"1\" class=\"dataframe\">\n",
       "  <thead>\n",
       "    <tr style=\"text-align: right;\">\n",
       "      <th></th>\n",
       "      <th>Name</th>\n",
       "      <th>Brand</th>\n",
       "      <th>Description</th>\n",
       "      <th>Notes</th>\n",
       "    </tr>\n",
       "  </thead>\n",
       "  <tbody>\n",
       "    <tr>\n",
       "      <th>0</th>\n",
       "      <td>Tihota Eau de Parfum</td>\n",
       "      <td>Indult</td>\n",
       "      <td>Rapa Nui for sugar, Tihota is, quite simply, ...</td>\n",
       "      <td>Vanilla bean, musks</td>\n",
       "    </tr>\n",
       "    <tr>\n",
       "      <th>1</th>\n",
       "      <td>Sola Parfum</td>\n",
       "      <td>Di Ser</td>\n",
       "      <td>A tribute to the expanse of space extending f...</td>\n",
       "      <td>Lavender, Yuzu, Lemongrass, Magnolia, Geraniu...</td>\n",
       "    </tr>\n",
       "    <tr>\n",
       "      <th>2</th>\n",
       "      <td>Kagiroi Parfum</td>\n",
       "      <td>Di Ser</td>\n",
       "      <td>An aromatic ode to the ancient beauty of Japa...</td>\n",
       "      <td>Green yuzu, green shikuwasa, sansho seed, cor...</td>\n",
       "    </tr>\n",
       "    <tr>\n",
       "      <th>3</th>\n",
       "      <td>Velvet Fantasy Eau de Parfum</td>\n",
       "      <td>Montale</td>\n",
       "      <td>Velvet Fantasy is a solar fragrance where cit...</td>\n",
       "      <td>tangerine,  pink pepper,  black coffee,  leat...</td>\n",
       "    </tr>\n",
       "    <tr>\n",
       "      <th>4</th>\n",
       "      <td>A Blvd. Called Sunset Eau de Parfum</td>\n",
       "      <td>A Lab on Fire</td>\n",
       "      <td>There's no way A Lab On Fire could relocate t...</td>\n",
       "      <td>Bergamot, almond, violet, jasmine, leather, s...</td>\n",
       "    </tr>\n",
       "    <tr>\n",
       "      <th>...</th>\n",
       "      <td>...</td>\n",
       "      <td>...</td>\n",
       "      <td>...</td>\n",
       "      <td>...</td>\n",
       "    </tr>\n",
       "    <tr>\n",
       "      <th>2186</th>\n",
       "      <td>Perfect Veil Eau de Parfum</td>\n",
       "      <td>Sarah Horowitz Parfums</td>\n",
       "      <td>This was created to smell like clean, naked s...</td>\n",
       "      <td>top: lemon, bergamot base: musk, vanilla, san...</td>\n",
       "    </tr>\n",
       "    <tr>\n",
       "      <th>2187</th>\n",
       "      <td>Scent Eau de Parfum</td>\n",
       "      <td>Costume National</td>\n",
       "      <td>Scent is Costume Nationals debut fragrance. W...</td>\n",
       "      <td>amber, jasmine tea, mother of pearl hibiscus ...</td>\n",
       "    </tr>\n",
       "    <tr>\n",
       "      <th>2188</th>\n",
       "      <td>Bronze Eau de Parfum</td>\n",
       "      <td>Nanadebary</td>\n",
       "      <td>Bronze is a naughty little vixen of a scent, ...</td>\n",
       "      <td>bergamot, mandarine, cinnamon, jasmine, iris,...</td>\n",
       "    </tr>\n",
       "    <tr>\n",
       "      <th>2189</th>\n",
       "      <td>Monyette Paris Fragrance Oil</td>\n",
       "      <td>Monyette Paris</td>\n",
       "      <td>This isn't just sexy, it's big night out se...</td>\n",
       "      <td>Tahitian gardenia, French muguet du bois, hin...</td>\n",
       "    </tr>\n",
       "    <tr>\n",
       "      <th>2190</th>\n",
       "      <td>1270 Eau de Parfum</td>\n",
       "      <td>Frapin</td>\n",
       "      <td>Named for the year the Frapin family establis...</td>\n",
       "      <td>exotic woods, spice, raisin, vine flowers, pe...</td>\n",
       "    </tr>\n",
       "  </tbody>\n",
       "</table>\n",
       "<p>2191 rows × 4 columns</p>\n",
       "</div>"
      ],
      "text/plain": [
       "                                     Name                   Brand                                        Description                                              Notes\n",
       "0                    Tihota Eau de Parfum                  Indult   Rapa Nui for sugar, Tihota is, quite simply, ...                                Vanilla bean, musks\n",
       "1                             Sola Parfum                  Di Ser   A tribute to the expanse of space extending f...   Lavender, Yuzu, Lemongrass, Magnolia, Geraniu...\n",
       "2                          Kagiroi Parfum                  Di Ser   An aromatic ode to the ancient beauty of Japa...   Green yuzu, green shikuwasa, sansho seed, cor...\n",
       "3            Velvet Fantasy Eau de Parfum                 Montale   Velvet Fantasy is a solar fragrance where cit...   tangerine,  pink pepper,  black coffee,  leat...\n",
       "4     A Blvd. Called Sunset Eau de Parfum           A Lab on Fire   There's no way A Lab On Fire could relocate t...   Bergamot, almond, violet, jasmine, leather, s...\n",
       "...                                   ...                     ...                                                ...                                                ...\n",
       "2186           Perfect Veil Eau de Parfum  Sarah Horowitz Parfums   This was created to smell like clean, naked s...   top: lemon, bergamot base: musk, vanilla, san...\n",
       "2187                  Scent Eau de Parfum        Costume National   Scent is Costume Nationals debut fragrance. W...   amber, jasmine tea, mother of pearl hibiscus ...\n",
       "2188                 Bronze Eau de Parfum              Nanadebary   Bronze is a naughty little vixen of a scent, ...   bergamot, mandarine, cinnamon, jasmine, iris,...\n",
       "2189         Monyette Paris Fragrance Oil          Monyette Paris   This isn't just sexy, it's big night out se...   Tahitian gardenia, French muguet du bois, hin...\n",
       "2190                   1270 Eau de Parfum                  Frapin   Named for the year the Frapin family establis...   exotic woods, spice, raisin, vine flowers, pe...\n",
       "\n",
       "[2191 rows x 4 columns]"
      ]
     },
     "execution_count": 2,
     "metadata": {},
     "output_type": "execute_result"
    }
   ],
   "source": [
    "dtypes = {'Name': str, 'Brand': str, 'Description': str, 'Notes': str, 'Image URL': str}\n",
    "df = pd.read_csv('final_perfume_data.csv', dtype=dtypes,encoding=\"ISO-8859-1\")\n",
    "df = df.drop(['Image URL'], axis=1)\n",
    "df"
   ]
  },
  {
   "cell_type": "code",
   "execution_count": 3,
   "metadata": {},
   "outputs": [
    {
     "name": "stdout",
     "output_type": "stream",
     "text": [
      "                                 Name                   Brand                                        Description                                              Notes\n",
      "count                            2191                    2191                                               2191                                               2111\n",
      "unique                           2184                     249                                               2167                                               2053\n",
      "top             Black Eau de Toilette  TOM FORD Private Blend   Every once in a while we encounter a fragranc...   Bergamot, lemon, neroli, african marigold, bu...\n",
      "freq                                2                      39                                                  2                                                  3\n",
      "Data Type                      object                  object                                             object                                             object\n",
      "Missing Values                      0                       0                                                  0                                                 80\n",
      "Present Values                   2191                    2191                                               2191                                               2111\n"
     ]
    }
   ],
   "source": [
    "print(toolkit.data_quality_report(df))"
   ]
  },
  {
   "cell_type": "code",
   "execution_count": 4,
   "metadata": {},
   "outputs": [
    {
     "name": "stdout",
     "output_type": "stream",
     "text": [
      "                                          Name                   Brand                                        Description                                              Notes\n",
      "count                                     2111                    2111                                               2111                                               2111\n",
      "unique                                    2104                     244                                               2087                                               2053\n",
      "top             New York Intense Eau de Parfum  TOM FORD Private Blend   Everyone knows someone like Miss Marisa. Pret...   Bergamot, lemon, neroli, african marigold, bu...\n",
      "freq                                         2                      36                                                  2                                                  3\n",
      "Data Type                               object                  object                                             object                                             object\n",
      "Missing Values                               0                       0                                                  0                                                  0\n",
      "Present Values                            2111                    2111                                               2111                                               2111\n"
     ]
    }
   ],
   "source": [
    "#there are 80 rows with missing notes\n",
    "df = df.replace(r'^(\\s?)+$', np.nan, regex=True)\n",
    "df = df.dropna().reset_index(drop=True)\n",
    "print(toolkit.data_quality_report(df))"
   ]
  },
  {
   "cell_type": "code",
   "execution_count": 5,
   "metadata": {},
   "outputs": [
    {
     "name": "stdout",
     "output_type": "stream",
     "text": [
      "                                Name         Brand                                        Description                                              Notes\n",
      "count                           1836          1836                                               1836                                               1836\n",
      "unique                          1830           223                                               1833                                               1826\n",
      "top             london eau de parfum  Serge Lutens   Dedicated to the cradle of the great civiliza...   Air note, orange absolute, bergamot, juniper,...\n",
      "freq                               2            36                                                  2                                                  2\n",
      "Data Type                     object        object                                             object                                             object\n",
      "Missing Values                     0             0                                                  0                                                  0\n",
      "Present Values                  1836          1836                                               1836                                               1836\n"
     ]
    }
   ],
   "source": [
    "#lowercase perfume name\n",
    "df['Name'] = df['Name'].str.lower()\n",
    "\n",
    "#remove those non-perfume products like oil and hair lotion\n",
    "df = df[~df['Name'].str.contains('oil')]\n",
    "df = df[~df['Name'].str.contains('hair')]\n",
    "\n",
    "print(toolkit.data_quality_report(df))"
   ]
  },
  {
   "cell_type": "code",
   "execution_count": 6,
   "metadata": {},
   "outputs": [
    {
     "data": {
      "text/html": [
       "<div>\n",
       "<style scoped>\n",
       "    .dataframe tbody tr th:only-of-type {\n",
       "        vertical-align: middle;\n",
       "    }\n",
       "\n",
       "    .dataframe tbody tr th {\n",
       "        vertical-align: top;\n",
       "    }\n",
       "\n",
       "    .dataframe thead th {\n",
       "        text-align: right;\n",
       "    }\n",
       "</style>\n",
       "<table border=\"1\" class=\"dataframe\">\n",
       "  <thead>\n",
       "    <tr style=\"text-align: right;\">\n",
       "      <th></th>\n",
       "      <th>Name</th>\n",
       "      <th>Brand</th>\n",
       "      <th>Description</th>\n",
       "      <th>Notes</th>\n",
       "    </tr>\n",
       "  </thead>\n",
       "  <tbody>\n",
       "    <tr>\n",
       "      <th>888</th>\n",
       "      <td>hindu kush eau de parfum</td>\n",
       "      <td>Mancera</td>\n",
       "      <td>Rugged, imposing, and central to military his...</td>\n",
       "      <td>Saffron, cumin, cloves, black pepper, labdanu...</td>\n",
       "    </tr>\n",
       "    <tr>\n",
       "      <th>1154</th>\n",
       "      <td>london eau de parfum</td>\n",
       "      <td>Gallivant</td>\n",
       "      <td>London- a massive city that sometimes feels l...</td>\n",
       "      <td>Cucumber, violet leaves, rose de mai, rose oi...</td>\n",
       "    </tr>\n",
       "    <tr>\n",
       "      <th>1518</th>\n",
       "      <td>new york intense eau de parfum</td>\n",
       "      <td>PARFUMS DE NICOLAI</td>\n",
       "      <td>A classic from Nicolai now available in INTEN...</td>\n",
       "      <td>Bergamot, Sicilian lemon, cloves, thyme, cinn...</td>\n",
       "    </tr>\n",
       "    <tr>\n",
       "      <th>1576</th>\n",
       "      <td>rose oud eau de parfum</td>\n",
       "      <td>PARFUMS DE NICOLAI</td>\n",
       "      <td>Rose Oud opens with a lush and spicy raspberr...</td>\n",
       "      <td>Raspberry, Davana, Osmanthus, Rose, Lily of t...</td>\n",
       "    </tr>\n",
       "    <tr>\n",
       "      <th>1775</th>\n",
       "      <td>dark eau de parfum</td>\n",
       "      <td>Andrea Maack Parfums</td>\n",
       "      <td>Dark is heavily oxidized rose mixed with viol...</td>\n",
       "      <td>Yellow mandarin, pink berries, petitgrain, le...</td>\n",
       "    </tr>\n",
       "    <tr>\n",
       "      <th>2009</th>\n",
       "      <td>gardenia eau de parfum</td>\n",
       "      <td>Isabey</td>\n",
       "      <td>There are moments in a woman's life when the ...</td>\n",
       "      <td>tangerine bark, ylang-ylang, orange flowers, ...</td>\n",
       "    </tr>\n",
       "  </tbody>\n",
       "</table>\n",
       "</div>"
      ],
      "text/plain": [
       "                                Name                 Brand                                        Description                                              Notes\n",
       "888         hindu kush eau de parfum               Mancera   Rugged, imposing, and central to military his...   Saffron, cumin, cloves, black pepper, labdanu...\n",
       "1154            london eau de parfum             Gallivant   London- a massive city that sometimes feels l...   Cucumber, violet leaves, rose de mai, rose oi...\n",
       "1518  new york intense eau de parfum    PARFUMS DE NICOLAI   A classic from Nicolai now available in INTEN...   Bergamot, Sicilian lemon, cloves, thyme, cinn...\n",
       "1576          rose oud eau de parfum    PARFUMS DE NICOLAI   Rose Oud opens with a lush and spicy raspberr...   Raspberry, Davana, Osmanthus, Rose, Lily of t...\n",
       "1775              dark eau de parfum  Andrea Maack Parfums   Dark is heavily oxidized rose mixed with viol...   Yellow mandarin, pink berries, petitgrain, le...\n",
       "2009          gardenia eau de parfum                Isabey   There are moments in a woman's life when the ...   tangerine bark, ylang-ylang, orange flowers, ..."
      ]
     },
     "execution_count": 6,
     "metadata": {},
     "output_type": "execute_result"
    }
   ],
   "source": [
    "# Select duplicate rows using Name except first occurrence\n",
    "duplicateRowsDF = df[df.duplicated(['Name'])]\n",
    "duplicateRowsDF"
   ]
  },
  {
   "cell_type": "code",
   "execution_count": 7,
   "metadata": {},
   "outputs": [
    {
     "name": "stdout",
     "output_type": "stream",
     "text": [
      "                                  Name         Brand                                        Description                                              Notes\n",
      "count                             1830          1830                                               1830                                               1830\n",
      "unique                            1830           223                                               1827                                               1820\n",
      "top             miksado parfum extrait  Serge Lutens   Dedicated to the cradle of the great civiliza...   Grapefruit, Citrus, Tangerine, Eucalyptus, Nu...\n",
      "freq                                 1            36                                                  2                                                  2\n",
      "Data Type                       object        object                                             object                                             object\n",
      "Missing Values                       0             0                                                  0                                                  0\n",
      "Present Values                    1830          1830                                               1830                                               1830\n"
     ]
    }
   ],
   "source": [
    "#remove duplicated content based on the same product names\n",
    "df = df.drop([888,1154,1518,1576,1775,2009], axis=0).reset_index(drop=True)\n",
    "print(toolkit.data_quality_report(df))"
   ]
  },
  {
   "cell_type": "code",
   "execution_count": 8,
   "metadata": {},
   "outputs": [],
   "source": [
    "#exclude \"no\" and \"not\" and processing the normalization\n",
    "stopword_exclusion_list = ['no', 'not']\n",
    "toolkit.exclude_stopwords(stopword_exclusion_list)\n",
    "\n",
    "cleaned_df = toolkit.normalize_corpus(df, 'Description', 'Cleaned_Description', html_stripping=True,\n",
    "                        accented_char_removal=True, contraction_expansion=True,\n",
    "                        text_lower_case=True, extra_newlines_removal=True, extra_whitespace_removal=True,\n",
    "                        special_char_removal=True, remove_digits=False, repeating_char_removal=False,\n",
    "                        spelling_correction=False, lemmatize=True, stop_word_removal=True)\n"
   ]
  },
  {
   "cell_type": "code",
   "execution_count": 9,
   "metadata": {},
   "outputs": [
    {
     "name": "stdout",
     "output_type": "stream",
     "text": [
      "                                  Name         Brand                                        Description                                              Notes                                Cleaned_Description\n",
      "count                             1830          1830                                               1830                                               1830                                               1830\n",
      "unique                            1830           223                                               1827                                               1820                                               1827\n",
      "top             miksado parfum extrait  Serge Lutens   Dedicated to the cradle of the great civiliza...   Grapefruit, Citrus, Tangerine, Eucalyptus, Nu...  capri perfume par excellence mediterranean not...\n",
      "freq                                 1            36                                                  2                                                  2                                                  2\n",
      "Data Type                       object        object                                             object                                             object                                             object\n",
      "Missing Values                       0             0                                                  0                                                  0                                                  0\n",
      "Present Values                    1830          1830                                               1830                                               1830                                               1830\n"
     ]
    }
   ],
   "source": [
    "print(toolkit.data_quality_report(cleaned_df))"
   ]
  },
  {
   "cell_type": "code",
   "execution_count": 10,
   "metadata": {},
   "outputs": [
    {
     "name": "stdout",
     "output_type": "stream",
     "text": [
      "                                  Name         Brand                                        Description                                              Notes                                Cleaned_Description\n",
      "count                             1830          1830                                               1830                                               1830                                               1830\n",
      "unique                            1830           223                                               1827                                               1820                                               1827\n",
      "top             miksado parfum extrait  Serge Lutens   Dedicated to the cradle of the great civiliza...   Grapefruit, Citrus, Tangerine, Eucalyptus, Nu...  capri perfume par excellence mediterranean not...\n",
      "freq                                 1            36                                                  2                                                  2                                                  2\n",
      "Data Type                       object        object                                             object                                             object                                             object\n",
      "Missing Values                       0             0                                                  0                                                  0                                                  0\n",
      "Present Values                    1830          1830                                               1830                                               1830                                               1830\n"
     ]
    }
   ],
   "source": [
    "#removing empty cleaned descriptions, if any\n",
    "cleaned_df['Cleaned_Description'].replace(' ', np.nan, inplace=True)\n",
    "cleaned_df.dropna(subset=['Cleaned_Description'], inplace=True)\n",
    "print(toolkit.data_quality_report(cleaned_df))"
   ]
  },
  {
   "cell_type": "code",
   "execution_count": 11,
   "metadata": {},
   "outputs": [],
   "source": [
    "cleaned_df.to_csv('cleaned_perfume_data.csv',index=False)"
   ]
  }
 ],
 "metadata": {
  "kernelspec": {
   "display_name": "Python 3",
   "language": "python",
   "name": "python3"
  },
  "language_info": {
   "codemirror_mode": {
    "name": "ipython",
    "version": 3
   },
   "file_extension": ".py",
   "mimetype": "text/x-python",
   "name": "python",
   "nbconvert_exporter": "python",
   "pygments_lexer": "ipython3",
   "version": "3.8.7"
  }
 },
 "nbformat": 4,
 "nbformat_minor": 5
}
