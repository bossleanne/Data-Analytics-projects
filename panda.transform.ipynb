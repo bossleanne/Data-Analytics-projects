{
 "cells": [
  {
   "cell_type": "code",
   "execution_count": 3,
   "metadata": {},
   "outputs": [],
   "source": [
    "import os\n",
    "import pandas as pd"
   ]
  },
  {
   "cell_type": "code",
   "execution_count": 4,
   "metadata": {},
   "outputs": [],
   "source": [
    "os.chdir(\"/Users/leanne/year2sem2/TBA2104/HCG_Dataset\")"
   ]
  },
  {
   "cell_type": "code",
   "execution_count": 7,
   "metadata": {},
   "outputs": [],
   "source": [
    "df = pd.read_excel(\"sales_transactions.xlsx\")"
   ]
  },
  {
   "cell_type": "code",
   "execution_count": 8,
   "metadata": {},
   "outputs": [
    {
     "data": {
      "text/html": [
       "<div>\n",
       "<style scoped>\n",
       "    .dataframe tbody tr th:only-of-type {\n",
       "        vertical-align: middle;\n",
       "    }\n",
       "\n",
       "    .dataframe tbody tr th {\n",
       "        vertical-align: top;\n",
       "    }\n",
       "\n",
       "    .dataframe thead th {\n",
       "        text-align: right;\n",
       "    }\n",
       "</style>\n",
       "<table border=\"1\" class=\"dataframe\">\n",
       "  <thead>\n",
       "    <tr style=\"text-align: right;\">\n",
       "      <th></th>\n",
       "      <th>account</th>\n",
       "      <th>name</th>\n",
       "      <th>order</th>\n",
       "      <th>sku</th>\n",
       "      <th>quantity</th>\n",
       "      <th>unit price</th>\n",
       "      <th>ext price</th>\n",
       "    </tr>\n",
       "  </thead>\n",
       "  <tbody>\n",
       "    <tr>\n",
       "      <th>0</th>\n",
       "      <td>383080</td>\n",
       "      <td>Will LLC</td>\n",
       "      <td>10001</td>\n",
       "      <td>B1-20000</td>\n",
       "      <td>7</td>\n",
       "      <td>33.69</td>\n",
       "      <td>235.83</td>\n",
       "    </tr>\n",
       "    <tr>\n",
       "      <th>1</th>\n",
       "      <td>383080</td>\n",
       "      <td>Will LLC</td>\n",
       "      <td>10001</td>\n",
       "      <td>S1-27722</td>\n",
       "      <td>11</td>\n",
       "      <td>21.12</td>\n",
       "      <td>232.32</td>\n",
       "    </tr>\n",
       "    <tr>\n",
       "      <th>2</th>\n",
       "      <td>383080</td>\n",
       "      <td>Will LLC</td>\n",
       "      <td>10001</td>\n",
       "      <td>B1-86481</td>\n",
       "      <td>3</td>\n",
       "      <td>35.99</td>\n",
       "      <td>107.97</td>\n",
       "    </tr>\n",
       "    <tr>\n",
       "      <th>3</th>\n",
       "      <td>412290</td>\n",
       "      <td>Jerde-Hilpert</td>\n",
       "      <td>10005</td>\n",
       "      <td>S1-06532</td>\n",
       "      <td>48</td>\n",
       "      <td>55.82</td>\n",
       "      <td>2679.36</td>\n",
       "    </tr>\n",
       "    <tr>\n",
       "      <th>4</th>\n",
       "      <td>412290</td>\n",
       "      <td>Jerde-Hilpert</td>\n",
       "      <td>10005</td>\n",
       "      <td>S1-82801</td>\n",
       "      <td>21</td>\n",
       "      <td>13.62</td>\n",
       "      <td>286.02</td>\n",
       "    </tr>\n",
       "    <tr>\n",
       "      <th>5</th>\n",
       "      <td>412290</td>\n",
       "      <td>Jerde-Hilpert</td>\n",
       "      <td>10005</td>\n",
       "      <td>S1-06532</td>\n",
       "      <td>9</td>\n",
       "      <td>92.55</td>\n",
       "      <td>832.95</td>\n",
       "    </tr>\n",
       "    <tr>\n",
       "      <th>6</th>\n",
       "      <td>412290</td>\n",
       "      <td>Jerde-Hilpert</td>\n",
       "      <td>10005</td>\n",
       "      <td>S1-47412</td>\n",
       "      <td>44</td>\n",
       "      <td>78.91</td>\n",
       "      <td>3472.04</td>\n",
       "    </tr>\n",
       "    <tr>\n",
       "      <th>7</th>\n",
       "      <td>412290</td>\n",
       "      <td>Jerde-Hilpert</td>\n",
       "      <td>10005</td>\n",
       "      <td>S1-27722</td>\n",
       "      <td>36</td>\n",
       "      <td>25.42</td>\n",
       "      <td>915.12</td>\n",
       "    </tr>\n",
       "    <tr>\n",
       "      <th>8</th>\n",
       "      <td>218895</td>\n",
       "      <td>Kulas Inc</td>\n",
       "      <td>10006</td>\n",
       "      <td>S1-27722</td>\n",
       "      <td>32</td>\n",
       "      <td>95.66</td>\n",
       "      <td>3061.12</td>\n",
       "    </tr>\n",
       "    <tr>\n",
       "      <th>9</th>\n",
       "      <td>218895</td>\n",
       "      <td>Kulas Inc</td>\n",
       "      <td>10006</td>\n",
       "      <td>B1-33087</td>\n",
       "      <td>23</td>\n",
       "      <td>22.55</td>\n",
       "      <td>518.65</td>\n",
       "    </tr>\n",
       "    <tr>\n",
       "      <th>10</th>\n",
       "      <td>218895</td>\n",
       "      <td>Kulas Inc</td>\n",
       "      <td>10006</td>\n",
       "      <td>B1-33364</td>\n",
       "      <td>3</td>\n",
       "      <td>72.30</td>\n",
       "      <td>216.90</td>\n",
       "    </tr>\n",
       "    <tr>\n",
       "      <th>11</th>\n",
       "      <td>218895</td>\n",
       "      <td>Kulas Inc</td>\n",
       "      <td>10006</td>\n",
       "      <td>B1-20000</td>\n",
       "      <td>-1</td>\n",
       "      <td>72.18</td>\n",
       "      <td>-72.18</td>\n",
       "    </tr>\n",
       "  </tbody>\n",
       "</table>\n",
       "</div>"
      ],
      "text/plain": [
       "    account           name  order       sku  quantity  unit price  ext price\n",
       "0    383080       Will LLC  10001  B1-20000         7       33.69     235.83\n",
       "1    383080       Will LLC  10001  S1-27722        11       21.12     232.32\n",
       "2    383080       Will LLC  10001  B1-86481         3       35.99     107.97\n",
       "3    412290  Jerde-Hilpert  10005  S1-06532        48       55.82    2679.36\n",
       "4    412290  Jerde-Hilpert  10005  S1-82801        21       13.62     286.02\n",
       "5    412290  Jerde-Hilpert  10005  S1-06532         9       92.55     832.95\n",
       "6    412290  Jerde-Hilpert  10005  S1-47412        44       78.91    3472.04\n",
       "7    412290  Jerde-Hilpert  10005  S1-27722        36       25.42     915.12\n",
       "8    218895      Kulas Inc  10006  S1-27722        32       95.66    3061.12\n",
       "9    218895      Kulas Inc  10006  B1-33087        23       22.55     518.65\n",
       "10   218895      Kulas Inc  10006  B1-33364         3       72.30     216.90\n",
       "11   218895      Kulas Inc  10006  B1-20000        -1       72.18     -72.18"
      ]
     },
     "execution_count": 8,
     "metadata": {},
     "output_type": "execute_result"
    }
   ],
   "source": [
    "df"
   ]
  },
  {
   "cell_type": "code",
   "execution_count": 9,
   "metadata": {},
   "outputs": [
    {
     "data": {
      "text/plain": [
       "order\n",
       "10001     576.12\n",
       "10005    8185.49\n",
       "10006    3724.49\n",
       "Name: ext price, dtype: float64"
      ]
     },
     "execution_count": 9,
     "metadata": {},
     "output_type": "execute_result"
    }
   ],
   "source": [
    "df.groupby('order')[\"ext price\"].sum()"
   ]
  },
  {
   "cell_type": "code",
   "execution_count": 12,
   "metadata": {},
   "outputs": [
    {
     "data": {
      "text/plain": [
       "0      576.12\n",
       "1      576.12\n",
       "2      576.12\n",
       "3     8185.49\n",
       "4     8185.49\n",
       "5     8185.49\n",
       "6     8185.49\n",
       "7     8185.49\n",
       "8     3724.49\n",
       "9     3724.49\n",
       "10    3724.49\n",
       "11    3724.49\n",
       "Name: ext price, dtype: float64"
      ]
     },
     "execution_count": 12,
     "metadata": {},
     "output_type": "execute_result"
    }
   ],
   "source": [
    "df.groupby('order')[\"ext price\"].transform('sum')"
   ]
  },
  {
   "cell_type": "code",
   "execution_count": null,
   "metadata": {},
   "outputs": [],
   "source": []
  }
 ],
 "metadata": {
  "kernelspec": {
   "display_name": "Python 3",
   "language": "python",
   "name": "python3"
  },
  "language_info": {
   "codemirror_mode": {
    "name": "ipython",
    "version": 3
   },
   "file_extension": ".py",
   "mimetype": "text/x-python",
   "name": "python",
   "nbconvert_exporter": "python",
   "pygments_lexer": "ipython3",
   "version": "3.7.4"
  }
 },
 "nbformat": 4,
 "nbformat_minor": 2
}
